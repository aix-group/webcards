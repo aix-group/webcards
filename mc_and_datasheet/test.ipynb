{
 "cells": [
  {
   "cell_type": "code",
   "execution_count": 9,
   "metadata": {},
   "outputs": [],
   "source": [
    "import json\n",
    "\n",
    "#with open('/Users/bahadir/Library/CloudStorage/OneDrive-UniversitaetDuisburg-Essen/Desktop/work-related/xai_project/feat_ai/rai_webapp/answer.json','r') as file:\n",
    "#    dict_a = json.load(file)\n",
    "\n",
    "with open('/Users/perso/OneDrive - Universitaet Duisburg-Essen/Desktop/work-related/xai_project/feat_ai/rai_webapp/answer.json','r') as file:\n",
    "    dict_a = json.load(file)\n"
   ]
  },
  {
   "cell_type": "code",
   "execution_count": 10,
   "metadata": {},
   "outputs": [
    {
     "data": {
      "text/plain": [
       "{'Section_name_28': 'Model Details',\n",
       " 'Section_Data_28': [{'4_Name of the model:': ''},\n",
       "  {'5_Model type:': ''},\n",
       "  {'6_Owner name/s:': ''},\n",
       "  {'7_Owner contact/s:': ''},\n",
       "  {'8_Where can resources for more information be found?': ''},\n",
       "  {'9_How should the model be cited?': ''},\n",
       "  {'10_License infromation': ''},\n",
       "  {'11_How can people give feedback on the model?': ''},\n",
       "  {'36_What is the version date?': ''},\n",
       "  {'45_Question1': '0.7'},\n",
       "  {'46_Question2': ''},\n",
       "  {'47_Question3': ''},\n",
       "  {'48_Question4': ''},\n",
       "  {'58_question5': ''}],\n",
       " 'Section_name_30': 'Considerations',\n",
       " 'Section_Data_30': [{'12_What are the primary intented uses?': ''},\n",
       "  {'13_What are the primary intented users?': ''},\n",
       "  {'14_Are there any out-of-scope uses?': ''},\n",
       "  {'15_Does the model use any sensitive data (e.g., protected classes)?': ''},\n",
       "  {'16_Is the model intednded to inform decision about matters central to human life or flourishing -- e.g., health or safety? Or could it be used in such a way?': ''},\n",
       "  {'17_What risk mitigation strategies were used during model development?': ''},\n",
       "  {'18_What risks may be present in model usage?': ''},\n",
       "  {'19_Are there any known model use cases that are especially fraught?': ''}],\n",
       " 'Section_name_31': 'Factors',\n",
       " 'Section_Data_31': [{'21_What are the foreseeable salient factors for which model performance may vary, and how were these determined?': ''},\n",
       "  {'22_Which factors are being reported, and why were these chosen? If the relevant factors and evaluation factors are different, why?': ''}],\n",
       " 'Section_name_32': 'Dataset Details',\n",
       " 'Section_Data_32': [{'23_What datasets were used to evaluate the model?': ''},\n",
       "  {'24_Why were these datasets chosen?': ''},\n",
       "  {'25_How was the data preprocessed for evaluation (e.g., tokenization of sentences, cropping of images, any filtering such as dropping images without faces)?': ''}],\n",
       " 'Section_name_33': 'Performance Details',\n",
       " 'Section_Data_33': [{'26_What measures of model performance are being reported, and why were they selected over other measures of model performance?': ''},\n",
       "  {'27_If decision thresholds are used, what are they, and why were those decision thresholds chosen?': ''},\n",
       "  {'28_How did the model perform with respect to each factor?': ''},\n",
       "  {'29_How did the model perform with respect to the intersection of evaluated factors?': ''}],\n",
       " 'Section_name_34': 'Dataset',\n",
       " 'Section_Data_34': [{'38_Title': ''},\n",
       "  {'39_Label': ''},\n",
       "  {'40_Description': ''},\n",
       "  {'41_Size of the dataset:': '700'},\n",
       "  {'44_Split Ratio:': '0.7'}],\n",
       " 'Section_name_35': 'Quantitative Analysis',\n",
       " 'Section_Data_35': [{'31_Select the metrics you want to include': '{\"selected metrics\": [[\"\", \"accuracy\"], [\"\"], [\"\"]]}'}],\n",
       " 'Section_name_36': 'Caveats and Recommendations',\n",
       " 'Section_Data_36': [{'32_Did the results suggest and further testing?': ''},\n",
       "  {'33_Were there any relevant groups that were not represented in the evaluation dataset?': ''},\n",
       "  {'34_Are there additional recommendations for model use?': ''},\n",
       "  {'35_What are the ideal characteristics of an evaluation dataset for this model?': ''}]}"
      ]
     },
     "execution_count": 10,
     "metadata": {},
     "output_type": "execute_result"
    }
   ],
   "source": [
    "dict_a"
   ]
  },
  {
   "cell_type": "code",
   "execution_count": 13,
   "metadata": {},
   "outputs": [],
   "source": [
    "\n",
    "def customized_fields(ind,dict_a):    \n",
    "    \"\"\"\n",
    "    model details:0\n",
    "    considerations:1\n",
    "    factors:2\n",
    "    dataset details:3\n",
    "    performance details:4\n",
    "    caveats and recommendations:5\n",
    "    \n",
    "    \"\"\"\n",
    "    \n",
    "    indicators = [['Section_Data_28',9],['Section_Data_30',9],['Section_Data_31',3],['Section_Data_32',4],['Section_Data_33',5],['Section_Data_36',5]]\n",
    "    section_list = (dict_a[indicators[ind][0]])\n",
    "    len_sec_list = len(section_list) \n",
    "    ext_list = section_list[indicators[ind][1]:len_sec_list]\n",
    "    extracted_numbers = []\n",
    "    \n",
    "    for dict in ext_list:\n",
    "        ext_question = list(dict.items())[0][0]\n",
    "    \n",
    "        extracted_numbers.append(ext_question[:2])\n",
    "    return extracted_numbers"
   ]
  },
  {
   "cell_type": "code",
   "execution_count": 14,
   "metadata": {},
   "outputs": [
    {
     "data": {
      "text/plain": [
       "['45_', '46_', '47_', '48_', '58_']"
      ]
     },
     "execution_count": 14,
     "metadata": {},
     "output_type": "execute_result"
    }
   ],
   "source": [
    "\n",
    "extracted_subdicts\n"
   ]
  },
  {
   "cell_type": "code",
   "execution_count": null,
   "metadata": {},
   "outputs": [],
   "source": [
    "from typing import Optional, List\n",
    "import dataclasses\n",
    "from my_package.model_card_pb2 import BaseModelCardField, model_card_pb2\n",
    "\n",
    "\n",
    "@dataclasses.dataclass\n",
    "class ExtendedSection1(BaseModelCardField):\n",
    "    \"\"\"\n",
    "    This section is provided to give flexibility to user. \n",
    "    User can choose Section name as well as fields in the section.\n",
    "    \"\"\"\n",
    "    _proto_type: type(model_card_pb2.ExtendedSection1) = model_card_pb2.ExtendedSection1\n",
    "\n",
    "# define the number of fields you want to generate\n",
    "num_fields = 10\n",
    "\n",
    "# define the base class for each field\n",
    "@dataclasses.dataclass\n",
    "class Extended1Field(BaseModelCardField):\n",
    "    \"\"\"Empty class for recommendations details\"\"\"\n",
    "    entry: Optional[str] = None\n",
    "    question: Optional[str] = None\n",
    "    _proto_type: type(model_card_pb2.Extended1Field) = model_card_pb2.Extended1Field\n",
    "\n",
    "# use a loop to generate the extended field classes\n",
    "for i in range(1, num_fields+1):\n",
    "    class_name = f\"Extended1Field{i}\"\n",
    "    setattr(\n",
    "        sys.modules[__name__],\n",
    "        class_name,\n",
    "        dataclasses.dataclass(\n",
    "            bases=(Extended1Field,),\n",
    "            namespace={\n",
    "                \"entry\": Optional[str] = None,\n",
    "                f\"question\": Optional[str] = None\n",
    "            },\n",
    "            repr=False,\n",
    "            eq=False\n",
    "        )\n",
    "    )\n",
    "    setattr(\n",
    "        ExtendedSection1,\n",
    "        f\"entry{i}\",\n",
    "        List[getattr(sys.modules[__name__], class_name)]\n",
    "    )\n"
   ]
  }
 ],
 "metadata": {
  "kernelspec": {
   "display_name": "Python 3",
   "language": "python",
   "name": "python3"
  },
  "language_info": {
   "codemirror_mode": {
    "name": "ipython",
    "version": 3
   },
   "file_extension": ".py",
   "mimetype": "text/x-python",
   "name": "python",
   "nbconvert_exporter": "python",
   "pygments_lexer": "ipython3",
   "version": "3.7.16"
  },
  "orig_nbformat": 4
 },
 "nbformat": 4,
 "nbformat_minor": 2
}
